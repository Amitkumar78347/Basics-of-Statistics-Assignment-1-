{
  "nbformat": 4,
  "nbformat_minor": 0,
  "metadata": {
    "colab": {
      "provenance": [],
      "authorship_tag": "ABX9TyMnWRnw7nSmj+Y7GCI1gUkF"
    },
    "kernelspec": {
      "name": "python3",
      "display_name": "Python 3"
    },
    "language_info": {
      "name": "python"
    }
  },
  "cells": [
    {
      "cell_type": "code",
      "execution_count": null,
      "metadata": {
        "id": "0-C1zFsQ_UtW"
      },
      "outputs": [],
      "source": []
    },
    {
      "cell_type": "markdown",
      "source": [
        "# 1)  Explain the different types of data (qualitative and quantitative) and provide examples of each. Discuss nominal, ordinal, interval, and ratio scales."
      ],
      "metadata": {
        "id": "hZ3xtp7I_d7N"
      }
    },
    {
      "cell_type": "markdown",
      "source": [
        "Answer) In statistics, data is typically categorized into **qualitative** (categorical) and **quantitative** (numerical) types.\n",
        "\n",
        "**Qualitative data** refers to information that can be categorized based on attributes or characteristics, but it cannot be measured or expressed numerically. It is further divided into:\n",
        "- **Nominal** data: This represents categories without any inherent order or ranking. Examples include gender, hair color, or types of fruit (apple, banana, orange).\n",
        "- **Ordinal** data: This type involves categories with a meaningful order or ranking, but the intervals between them are not consistent. Examples include educational levels (e.g., high school, college, graduate) or survey ratings (e.g., poor, good, excellent).\n",
        "\n",
        "**Quantitative data** consists of numerical values that can be measured and quantified. It can be further categorized into:\n",
        "- **Interval** data: This type has meaningful intervals between values, but there is no true zero point. Temperature in Celsius or Fahrenheit is an example, as 0 degrees doesn't represent an absolute absence of temperature.\n",
        "- **Ratio** data: This has both meaningful intervals and a true zero point, allowing for comparisons of magnitude. Examples include weight, height, or income, where zero indicates the absence of the quantity.\n",
        "\n"
      ],
      "metadata": {
        "id": "w-JVfEp-_zas"
      }
    },
    {
      "cell_type": "markdown",
      "source": [],
      "metadata": {
        "id": "wzV6CRgeAheK"
      }
    },
    {
      "cell_type": "markdown",
      "source": [
        "# 2)  What are the measures of central tendency, and when should you use each? Discuss the mean, median,and mode with examples and situations where each is appropriate."
      ],
      "metadata": {
        "id": "lZNyE5mVBC0q"
      }
    },
    {
      "cell_type": "markdown",
      "source": [
        "Answer) Measures of central tendency are statistical tools used to summarize a set of data by identifying the central or typical value. The three main measures are the **mean**, **median**, and **mode**. Each is appropriate in different situations, depending on the data distribution and the type of data.\n",
        "\n",
        "1. **Mean** (Arithmetic Average):\n",
        "   - The mean is calculated by adding all values in a data set and dividing by the number of values.\n",
        "   \n",
        "   - **Use**: The mean is best used when the data is symmetrically distributed without outliers. It is appropriate for interval and ratio data.\n",
        "   - **Example**: For test scores (e.g., 70, 80, 90, 100), the mean score is 85.\n",
        "   - **Limitations**: The mean can be skewed by outliers (extremely high or low values).\n",
        "\n",
        "2. **Median** (Middle Value):\n",
        "   - The median is the middle value when data is ordered from least to greatest. If there’s an even number of data points, the median is the average of the two middle values.\n",
        "   - **Use**: The median is ideal when the data is skewed or has outliers, as it is not affected by extreme values.\n",
        "   - **Example**: For the set of incomes (20k, 30k, 40k, 90k), the median is 35k, since it is the middle value when ordered.\n",
        "\n",
        "3. **Mode** (Most Frequent Value):\n",
        "   - The mode is the value that appears most frequently in a data set. A set can have no mode, one mode, or multiple modes.\n",
        "   - **Use**: The mode is suitable for nominal or categorical data where we want to identify the most common category or value.\n",
        "   - **Example**: For the data set (3, 5, 7, 7, 9), the mode is 7.\n",
        "\n",
        "### Choosing the Measure:\n",
        "- **Use the mean** for symmetrical, normally distributed data without outliers.\n",
        "- **Use the median** for skewed data or when outliers are present.\n",
        "- **Use the mode** for categorical data or to identify the most common value.\n",
        "\n"
      ],
      "metadata": {
        "id": "We92JbB3Bifi"
      }
    },
    {
      "cell_type": "markdown",
      "source": [
        "# 3)  Explain the concept of dispersion. How do variance and standard deviation measure the spread of data?"
      ],
      "metadata": {
        "id": "cOx1kVYJCB5R"
      }
    },
    {
      "cell_type": "markdown",
      "source": [
        "Answer) **Dispersion** refers to how spread out data points are in a data set. It helps to understand the variability or consistency in the data, alongside measures of central tendency like the mean.\n",
        "\n",
        "Two key measures of dispersion are **variance** and **standard deviation**:\n",
        "\n",
        "- **Variance** measures the average squared deviation of each data point from the mean. It is useful for quantifying spread but is expressed in squared units, making it harder to interpret directly.\n",
        "  \n",
        "- **Standard deviation** is the square root of the variance and represents the average distance of data points from the mean, expressed in the same units as the data. It’s easier to interpret and widely used.\n",
        "\n",
        "A larger variance or standard deviation indicates more spread or variability in the data, while smaller values suggest that the data points are closely clustered around the mean. Both measures are essential for understanding data distribution and consistency.\n",
        "\n",
        "Example:\n",
        "Consider the following two data sets:\n",
        "\n",
        "Data Set 1: 2, 4, 6, 8, 10\n",
        "\n",
        " Mean = 6\n",
        "The values are evenly spread around the mean, so the variance and standard deviation will be relatively small.\n",
        "\n",
        "Data Set 2: 1, 1, 10, 10, 10\n",
        "\n",
        " Mean = 6.4\n",
        "The values are more spread out, particularly with extreme values (1 and 10), so the variance and standard deviation will be larger, indicating more dispersion.\n",
        "\n",
        "Key Takeaways:\n",
        "Variance is useful for understanding the overall spread but can be less interpretable due to its squared units.\n",
        "Standard deviation is preferred in practice because it is in the same units as the original data, making it more interpretable and directly comparable.\n",
        "Both measures help you understand the consistency of the data—whether the values are tightly clustered around the mean or more spread out."
      ],
      "metadata": {
        "id": "---dm4gfCJXB"
      }
    },
    {
      "cell_type": "markdown",
      "source": [
        "# 4) What is a box plot, and what can it tell you about the distribution of data?"
      ],
      "metadata": {
        "id": "uRmS44XXDrGo"
      }
    },
    {
      "cell_type": "markdown",
      "source": [
        "Answer)  \n",
        "\n",
        "A **box plot** (also called a **box-and-whisker plot**) is a graphical representation that summarizes the distribution of a data set through its quartiles and highlights the presence of outliers. It provides a visual summary of key statistical measures, making it easier to understand the spread and central tendency of the data.\n",
        "\n",
        "### Key components of a box plot:\n",
        "1. **Minimum**: The smallest data point (excluding outliers), shown at the left end of the \"whisker.\"\n",
        "2. **First Quartile (Q1)**: The 25th percentile, marking the boundary between the lowest 25% of the data and the rest.\n",
        "3. **Median (Q2)**: The middle value, representing the 50th percentile, or the data's central value.\n",
        "4. **Third Quartile (Q3)**: The 75th percentile, marking the boundary between the top 25% and the rest of the data.\n",
        "5. **Maximum**: The largest data point (excluding outliers), shown at the right end of the \"whisker.\"\n",
        "6. **Outliers**: Data points that lie outside the whiskers, typically more than 1.5 times the interquartile range (IQR).\n",
        "\n",
        "### What a box plot can tell you:\n",
        "- **Central tendency**: The median line shows the middle of the data.\n",
        "- **Spread**: The length of the box (IQR) and whiskers show data dispersion.\n",
        "- **Skewness**: If the median is closer to Q1 or Q3, the data is skewed left or right, respectively.\n",
        "- **Outliers**: Points outside the whiskers indicate unusually high or low values.\n",
        "\n",
        " box plots provide a clear, concise view of data distribution, helping to quickly identify central values, spread, and potential outliers."
      ],
      "metadata": {
        "id": "dc9so1ZLEFG3"
      }
    },
    {
      "cell_type": "markdown",
      "source": [
        "# 5)  Discuss the role of random sampling in making inferences about populations."
      ],
      "metadata": {
        "id": "ayA6eyyAEohf"
      }
    },
    {
      "cell_type": "markdown",
      "source": [
        "**Random sampling** is a fundamental technique in statistics used to make valid inferences about a **population** based on a **sample**. The main goal of random sampling is to ensure that every individual in the population has an equal chance of being selected, which helps achieve a sample that is representative of the larger group.\n",
        "\n",
        "### Role of Random Sampling in Making Inferences:\n",
        "1. **Reduces Bias**: By selecting individuals randomly, we minimize selection bias, ensuring that certain groups or characteristics are not overrepresented or underrepresented in the sample. This leads to more accurate and generalizable conclusions about the population.\n",
        "\n",
        "2. **Represents Population Diversity**: Random sampling helps capture the diversity of the population, making the sample more likely to reflect the true variability within the larger group. This improves the reliability of statistical analyses.\n",
        "\n",
        "3. **Basis for Statistical Inference**: Inference methods like confidence intervals and hypothesis tests rely on the assumption that the sample is randomly chosen. Random sampling allows us to apply probability theory to estimate population parameters (e.g., mean, proportion) and assess uncertainty.\n",
        "\n",
        "4. **Generalizability**: Since random sampling reduces bias, findings from the sample are more likely to be applicable to the entire population, improving the external validity of the study.\n",
        "\n",
        "In summary, random sampling is crucial for drawing valid, unbiased conclusions about a population, ensuring that sample results can be generalized to the broader group."
      ],
      "metadata": {
        "id": "ushbIBNNEtcP"
      }
    },
    {
      "cell_type": "markdown",
      "source": [
        "# 6)  Explain the concept of skewness and its types. How does skewness affect the interpretation of data?"
      ],
      "metadata": {
        "id": "m4op69NkFa4f"
      }
    },
    {
      "cell_type": "markdown",
      "source": [
        "Answer) **Skewness** refers to the asymmetry or lopsidedness of the distribution of data. It indicates whether the data is skewed to the left (negative skew) or to the right (positive skew) relative to the mean. Skewness is important because it affects how the data is interpreted and how statistical measures like the mean, median, and mode relate to each other.\n",
        "\n",
        "### Types of Skewness:\n",
        "1. **Positive Skew (Right Skew)**:\n",
        "   - In a positively skewed distribution, the tail on the right side (larger values) is longer than the left side.\n",
        "   - The mean is typically greater than the median.\n",
        "   - **Example**: Income distribution, where most people earn average or low incomes, but a few earn extremely high incomes, pulling the mean to the right.\n",
        "\n",
        "2. **Negative Skew (Left Skew)**:\n",
        "   - In a negatively skewed distribution, the tail on the left side (smaller values) is longer than the right side.\n",
        "   - The mean is typically less than the median.\n",
        "   - **Example**: Age at retirement, where most people retire in their 60s, but a few retire much earlier, pulling the mean to the left.\n",
        "\n",
        "3. **No Skew (Symmetrical Distribution)**:\n",
        "   - If a distribution is symmetrical, the left and right sides are mirror images.\n",
        "   - The mean, median, and mode are all equal.\n",
        "   - **Example**: Heights of adult humans, assuming a normal distribution.\n",
        "\n",
        "### How Skewness Affects Interpretation:\n",
        "- **Mean vs. Median**: In skewed distributions, the mean is pulled in the direction of the skew. This can make the mean less representative of the central tendency, and the median is often a better measure of central location.\n",
        "- **Outliers**: Skewed data often indicates the presence of outliers, which are extreme values that can distort the analysis and affect measures like the mean and standard deviation.\n",
        "- **Statistical Tests**: Many statistical tests assume normality. Skewed data may violate these assumptions, leading to inaccurate results. Non-parametric methods, which don't assume a specific distribution, may be more appropriate for skewed data.\n",
        "\n",
        "In summary, understanding skewness is crucial for accurately interpreting data, choosing the right statistical methods, and making informed decisions based on the data distribution."
      ],
      "metadata": {
        "id": "Oem2BE5SFtAm"
      }
    },
    {
      "cell_type": "markdown",
      "source": [],
      "metadata": {
        "id": "5G2HsiqNBn_L"
      }
    },
    {
      "cell_type": "markdown",
      "source": [
        "# 7)  What is the interquartile range (IQR), and how is it used to detect outliers?                   "
      ],
      "metadata": {
        "id": "_nlE6UEnGIVd"
      }
    },
    {
      "cell_type": "markdown",
      "source": [
        "Answer)The **interquartile range (IQR)** is a measure of statistical dispersion that represents the range within which the middle 50% of data points lie. It is the difference between the **third quartile (Q3)** and the **first quartile (Q1)**:\n",
        "\n",
        "IQR = Q3 - Q1\n",
        "\n",
        "\n",
        "- **Q1** (First Quartile) is the median of the lower half of the data, representing the 25th percentile.\n",
        "- **Q3** (Third Quartile) is the median of the upper half of the data, representing the 75th percentile.\n",
        "\n",
        "### How the IQR is used to detect outliers:\n",
        "Outliers are data points that are significantly different from other values in the data set. The IQR is useful for detecting outliers by defining \"fences\" beyond which data points are considered unusually high or low.\n",
        "\n",
        "- **Lower bound (Lower Fence)**:\n",
        "   \n",
        "   Lower Fence = Q1 - 1.5 X IQR\n",
        "  \n",
        "  \n",
        "- **Upper bound (Upper Fence)**:\n",
        "     \n",
        "     Upper Fence = Q3 + 1.5 X IQR\n",
        "\n",
        "Any data point outside these bounds (either below the lower fence or above the upper fence) is considered an **outlier**.\n",
        "\n",
        "### Example:\n",
        "Consider the following data set:  \n",
        "**3, 7, 8, 12, 13, 15, 18, 22, 30, 35**\n",
        "\n",
        "1. **Q1** = 7.5, **Q3** = 22\n",
        "2. **IQR** = 22 - 7.5 = 14.5\n",
        "3. **Lower Fence** = 7.5 - 1.5 × 14.5 = -7.75\n",
        "4. **Upper Fence** = 22 + 1.5 × 14.5 = 37.25\n",
        "\n",
        "In this case, no values fall outside the bounds of -7.75 and 37.25, so there are **no outliers** in the data set.\n",
        "\n",
        "### Conclusion:\n",
        "The IQR is a simple and effective tool for detecting outliers by identifying data points that fall far outside the typical range of values. It is particularly useful for identifying extreme values in a data set that could skew analysis or indicate errors."
      ],
      "metadata": {
        "id": "GFONJhBNGPyV"
      }
    },
    {
      "cell_type": "markdown",
      "source": [
        "# 8) Discuss the conditions under which the binomial distribution is used."
      ],
      "metadata": {
        "id": "v9uxPhVLHig0"
      }
    },
    {
      "cell_type": "markdown",
      "source": [
        "Answer) The **binomial distribution** is used when certain conditions are met in a statistical experiment. These conditions ensure that the situation is appropriate for applying the binomial model, which describes the probability of a certain number of successes in a fixed number of trials.\n",
        "\n",
        "### Conditions for a Binomial Distribution:\n",
        "1. **Fixed Number of Trials**: The experiment consists of a fixed number of identical, independent trials (denoted as \\(n\\)).\n",
        "   - Example: Flipping a coin 10 times.\n",
        "  \n",
        "2. **Binary Outcomes (Success or Failure)**: Each trial has only two possible outcomes, often referred to as \"success\" and \"failure.\" These are mutually exclusive events.\n",
        "   - Example: In a coin flip, the two outcomes are \"heads\" (success) and \"tails\" (failure).\n",
        "\n",
        "3. **Constant Probability of Success**: The probability of success on each trial remains the same across all trials, denoted as \\(p\\). The probability of failure is \\(1 - p\\).\n",
        "   - Example: The probability of getting a \"head\" on a fair coin flip is 0.5.\n",
        "\n",
        "4. **Independence of Trials**: The outcome of any trial does not affect the outcome of other trials, meaning the trials are independent.\n",
        "   - Example: The outcome of each coin flip is independent of others.\n",
        "\n",
        "### When to Use the Binomial Distribution:\n",
        "- You are counting the number of successes in a fixed number of independent trials.\n",
        "- Each trial has only two possible outcomes, and the probability of success is constant across trials.\n",
        "\n",
        "### Example:\n",
        "If you flip a fair coin 10 times, and you want to find the probability of getting exactly 6 heads, this situation satisfies all the binomial conditions:\n",
        "- 10 trials (fixed number),\n",
        "- Two outcomes per trial (heads or tails),\n",
        "- Probability of heads (success) is 0.5 for each flip,\n",
        "- Trials are independent.\n",
        "\n",
        "In such a case, the binomial distribution can be applied to calculate probabilities like the chance of getting exactly 6 heads out of 10 flips."
      ],
      "metadata": {
        "id": "TAHcr7LOH0NF"
      }
    },
    {
      "cell_type": "markdown",
      "source": [
        "# 9)  Explain the properties of the normal distribution and the empirical rule (68-95-99.7 rule)"
      ],
      "metadata": {
        "id": "FKebV1JhIJcu"
      }
    },
    {
      "cell_type": "markdown",
      "source": [
        "Answer)  Properties of the **Normal Distribution**:\n",
        "The **normal distribution** is a continuous probability distribution that is symmetric and bell-shaped. It is one of the most widely used distributions in statistics, especially for natural phenomena and measurement errors. Here are its key properties:\n",
        "\n",
        "1. **Symmetry**: The normal distribution is perfectly symmetric around its mean. This means the left and right halves of the distribution are mirror images of each other.\n",
        "   \n",
        "2. **Mean, Median, and Mode**: In a normal distribution, the mean, median, and mode are all equal and located at the center of the distribution.\n",
        "   \n",
        "3. **Bell-Shaped Curve**: The graph of a normal distribution is bell-shaped, meaning it has a peak at the mean and tails that extend infinitely in both directions, approaching but never touching the horizontal axis.\n",
        "   \n",
        "4. **Defined by Two Parameters**: A normal distribution is fully characterized by two parameters:\n",
        "   - **Mean (μ)**: Determines the center of the distribution.\n",
        "   - **Standard deviation (σ)**: Determines the spread of the distribution. A larger standard deviation results in a wider curve, while a smaller standard deviation results in a narrower curve.\n",
        "\n",
        "5. **Asymptotic**: The tails of the normal distribution curve approach, but never quite touch, the horizontal axis, meaning the probability of extreme values (far from the mean) gets very small but never exactly zero.\n",
        "\n",
        "### The **Empirical Rule** (68-95-99.7 Rule):\n",
        "The **Empirical Rule** provides a quick way to estimate the spread of data in a **normal distribution**. It states that:\n",
        "\n",
        "1. **68%** of the data falls within **1 standard deviation** (±1σ) of the mean.\n",
        "2. **95%** of the data falls within **2 standard deviations** (±2σ) of the mean.\n",
        "3. **99.7%** of the data falls within **3 standard deviations** (±3σ) of the mean.\n",
        "\n",
        "This rule is useful for understanding how data is distributed in a normal distribution and quickly assessing the likelihood of observing values within certain ranges.\n",
        "\n",
        "### Example:\n",
        "For a normal distribution with a mean (μ) of 50 and a standard deviation (σ) of 10:\n",
        "- **68%** of data points will fall between 40 and 60 (50 ± 1(10)).\n",
        "- **95%** of data points will fall between 30 and 70 (50 ± 2(10)).\n",
        "- **99.7%** of data points will fall between 20 and 80 (50 ± 3(10)).\n",
        "\n",
        "In summary, the normal distribution's symmetry and the empirical rule help to quickly understand the spread and likelihood of different outcomes in normally distributed data."
      ],
      "metadata": {
        "id": "39MqFyF1Ibnc"
      }
    },
    {
      "cell_type": "markdown",
      "source": [
        "# 10) Provide a real-life example of a Poisson process and calculate the probability for a specific event."
      ],
      "metadata": {
        "id": "bHgicx2BIlFT"
      }
    },
    {
      "cell_type": "markdown",
      "source": [],
      "metadata": {
        "id": "BDSyT--zC0GA"
      }
    },
    {
      "cell_type": "markdown",
      "source": [],
      "metadata": {
        "id": "Zx0FYjl7Bxdj"
      }
    },
    {
      "cell_type": "markdown",
      "source": [
        "Answer) A **Poisson process** describes events occurring randomly and independently at a constant average rate. For example, a call center receives **3 calls per hour** on average. To calculate the probability of receiving exactly **4 calls** in an hour, we use the Poisson distribution formula:\n",
        "\n",
        "![image.png](data:image/png;base64,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)\n",
        "\n",
        "Thus, the probability of receiving exactly 4 calls in an hour is approximately **16.89%**. This model is useful for predicting event frequencies in various real-life situations like call centers, traffic, or accidents."
      ],
      "metadata": {
        "id": "Nel_ik3vJA2M"
      }
    },
    {
      "cell_type": "markdown",
      "source": [
        "# 11)  Explain what a random variable is and differentiate between discrete and continuous random variables."
      ],
      "metadata": {
        "id": "YlpRC9aQKcBp"
      }
    },
    {
      "cell_type": "markdown",
      "source": [
        "Answer) A **random variable** is a numerical outcome of a random phenomenon or experiment. It is a variable whose value is subject to chance and can take different values depending on the outcome of the experiment. Random variables are typically denoted by capital letters such as **X**, **Y**, or **Z**, and they are used in probability and statistics to model uncertain quantities.\n",
        "\n",
        "### Types of Random Variables:\n",
        "\n",
        "1. **Discrete Random Variable**:\n",
        "   - A **discrete random variable** takes on **countable** values, often integers or whole numbers.\n",
        "   - The possible outcomes can be listed or counted.\n",
        "   - **Example**: The number of heads when flipping a coin 3 times. Possible outcomes: 0, 1, 2, or 3 heads.\n",
        "   - **Probability Distribution**: The probability of each possible outcome is assigned a specific probability, and the sum of all probabilities equals 1.\n",
        "\n",
        "2. **Continuous Random Variable**:\n",
        "   - A **continuous random variable** takes on **uncountably many values** within a given range, typically any real number within an interval.\n",
        "   - The values can be measured with infinite precision and are often represented by real numbers.\n",
        "   - **Example**: The height of a person, where the value could be any real number within a range (e.g., 150.2 cm, 160.5 cm, etc.).\n",
        "   - **Probability Distribution**: The probability of any specific value is 0, but probabilities are described over intervals using a **probability density function (PDF)**.\n",
        "\n",
        "### Summary:\n",
        "- **Discrete random variables** are countable, like the number of cars passing a toll booth.\n",
        "- **Continuous random variables** are uncountable, like the temperature on a given day.\n",
        "\n",
        "Understanding the type of random variable helps determine the appropriate methods for analyzing and interpreting data."
      ],
      "metadata": {
        "id": "brOTQ1OkLA9m"
      }
    },
    {
      "cell_type": "markdown",
      "source": [
        "# 12) Provide an example dataset, calculate both covariance and correlation, and interpret the results.\n"
      ],
      "metadata": {
        "id": "KqtVuEm3Lb-h"
      }
    },
    {
      "cell_type": "markdown",
      "source": [
        "Answer) Let's work through an example dataset and calculate both **covariance** and **correlation**.\n",
        "\n",
        "### Example Dataset:\n",
        "| X (Hours Studied) | Y (Test Score) |\n",
        "|-------------------|----------------|\n",
        "| 1                 | 55             |\n",
        "| 2                 | 60             |\n",
        "| 3                 | 65             |\n",
        "| 4                 | 70             |\n",
        "| 5                 | 75             |\n",
        "\n",
        "![image.png](data:image/png;base64,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)\n",
        "\n",
        "![image.png](data:image/png;base64,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)\n",
        "\n",
        "### Conclusion:\n",
        "- **Covariance** shows a positive relationship.\n",
        "- **Correlation** of 1 indicates a perfect linear relationship between the two variables."
      ],
      "metadata": {
        "id": "f3Lem099L_Nf"
      }
    },
    {
      "cell_type": "markdown",
      "source": [],
      "metadata": {
        "id": "gGj1eHZmKe3a"
      }
    },
    {
      "cell_type": "markdown",
      "source": [],
      "metadata": {
        "id": "kL0iabgQMhVo"
      }
    },
    {
      "cell_type": "markdown",
      "source": [],
      "metadata": {
        "id": "TXqheNcvAbis"
      }
    }
  ]
}